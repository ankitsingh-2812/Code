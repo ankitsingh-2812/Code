{
 "cells": [
  {
   "cell_type": "markdown",
   "id": "e916d203-2c4a-4d07-b48e-34f89e131737",
   "metadata": {},
   "source": [
    "# map()\n",
    "- it is used to perform operation to all values of an iterable(like list,tuple,set,range,etc.)\n",
    "- it returns address of memory where result of operation is stored.\n",
    "- to use this result,we need to convert it into list/tuple/set.\n",
    "- map(fun,iterable)\n",
    "- map(fun,iterable*)"
   ]
  },
  {
   "cell_type": "code",
   "execution_count": 8,
   "id": "a6294749-f7c8-4d08-93b8-13d76eb250c6",
   "metadata": {
    "tags": []
   },
   "outputs": [
    {
     "name": "stdout",
     "output_type": "stream",
     "text": [
      "<map object at 0x000002239296A410>\n",
      "[5, 4, 5, 6]\n"
     ]
    }
   ],
   "source": [
    "#x=['sachin','rohit','dhoni','sonu']\n",
    "#x=('sachin','rohit','dhoni','sonu')\n",
    "x={'sachin','rohit','dhoni','sonu'}\n",
    "r=map(len,x)\n",
    "print(r)\n",
    "print(list(r))\n",
    "#print(tuple(r))\n",
    "#print(set(r))"
   ]
  },
  {
   "cell_type": "code",
   "execution_count": 10,
   "id": "6ccbe177-fe55-4919-aa9f-8900dace33dc",
   "metadata": {
    "tags": []
   },
   "outputs": [
    {
     "name": "stdout",
     "output_type": "stream",
     "text": [
      "['a', 'h', 'd', 'n']\n",
      "['s', 't', 'o', 'u']\n"
     ]
    }
   ],
   "source": [
    "x=['sachin','rohit','dhoni','sonu']\n",
    "r=map(min,x)\n",
    "print(list(r))\n",
    "\n",
    "r=map(max,x)\n",
    "print(list(r))"
   ]
  },
  {
   "cell_type": "code",
   "execution_count": 12,
   "id": "a7aca079-1d73-403f-81c3-094e461e2a46",
   "metadata": {
    "tags": []
   },
   "outputs": [
    {
     "name": "stdout",
     "output_type": "stream",
     "text": [
      "[1, 4, 9, 16, 25]\n",
      "[1, 8, 27, 64, 125]\n"
     ]
    }
   ],
   "source": [
    "def sqr(num):\n",
    "    return num**2\n",
    "\n",
    "x=[1,2,3,4,5]\n",
    "print(list(map(sqr,x)))\n",
    "\n",
    "def cube(num):\n",
    "    return num**3\n",
    "\n",
    "print(list(map(cube,x)))"
   ]
  },
  {
   "cell_type": "code",
   "execution_count": 13,
   "id": "22693646-ea19-445a-81f2-89dcd62093f6",
   "metadata": {
    "tags": []
   },
   "outputs": [
    {
     "name": "stdout",
     "output_type": "stream",
     "text": [
      "[2, 4, 6, 8, 10]\n"
     ]
    }
   ],
   "source": [
    "def add(num):\n",
    "    return num+num\n",
    "print(list(map(add,x)))"
   ]
  },
  {
   "cell_type": "code",
   "execution_count": 14,
   "id": "51ed2629-3d1a-486a-b4eb-10e8b86a6e2d",
   "metadata": {
    "tags": []
   },
   "outputs": [
    {
     "name": "stdout",
     "output_type": "stream",
     "text": [
      "[1, 2, 6, 24, 120]\n"
     ]
    }
   ],
   "source": [
    "x=[1,2,3,4,5]\n",
    "import math\n",
    "print(list(map(math.factorial,x)))"
   ]
  },
  {
   "cell_type": "code",
   "execution_count": 18,
   "id": "b75fa552-ae3f-436f-9b20-2c2b74758609",
   "metadata": {
    "tags": []
   },
   "outputs": [
    {
     "name": "stdout",
     "output_type": "stream",
     "text": [
      "[3, 3, 7, 6, 10]\n"
     ]
    }
   ],
   "source": [
    "x=[1,2,3,4,5]\n",
    "y=[2,1,4,2,5]\n",
    "\n",
    "def add(a,b):\n",
    "    return a+b\n",
    "\n",
    "print(list(map(add,x,y)))"
   ]
  },
  {
   "cell_type": "code",
   "execution_count": 19,
   "id": "e7a7f6d3-8d43-415f-852e-51f9a0c591d0",
   "metadata": {
    "tags": []
   },
   "outputs": [
    {
     "name": "stdout",
     "output_type": "stream",
     "text": [
      "[3, 3, 7, 6, 10]\n"
     ]
    }
   ],
   "source": [
    "x=[1,2,3,4,5]\n",
    "y=[2,1,4,2,5,8]\n",
    "\n",
    "def add(a,b):\n",
    "    return a+b\n",
    "\n",
    "print(list(map(add,x,y)))"
   ]
  },
  {
   "cell_type": "code",
   "execution_count": 21,
   "id": "cc703246-2530-4174-a7a0-bacf766341d5",
   "metadata": {
    "tags": []
   },
   "outputs": [
    {
     "name": "stdout",
     "output_type": "stream",
     "text": [
      "[8.0, 6.666666666666667, 7.333333333333333]\n"
     ]
    }
   ],
   "source": [
    "phy=[6,8,5]\n",
    "chm=[9,4,8]\n",
    "mth=[9,8,9]\n",
    "\n",
    "def avg(a,b,c):\n",
    "    return (a+b+c)/3\n",
    "\n",
    "print(list(map(avg,phy,chm,mth)))"
   ]
  },
  {
   "cell_type": "code",
   "execution_count": 22,
   "id": "af2fa90c-3133-4887-933e-5a0ae138fb38",
   "metadata": {
    "tags": []
   },
   "outputs": [
    {
     "name": "stdout",
     "output_type": "stream",
     "text": [
      "[8.0, 6.67, 7.33]\n"
     ]
    }
   ],
   "source": [
    "phy=[6,8,5]\n",
    "chm=[9,4,8]\n",
    "mth=[9,8,9]\n",
    "\n",
    "def avg(a,b,c):\n",
    "    d=(a+b+c)/3\n",
    "    return round(d,2)\n",
    "\n",
    "print(list(map(avg,phy,chm,mth)))"
   ]
  },
  {
   "cell_type": "code",
   "execution_count": null,
   "id": "85c2c872-eca1-4b5e-8094-33a39bd09500",
   "metadata": {},
   "outputs": [],
   "source": []
  }
 ],
 "metadata": {
  "kernelspec": {
   "display_name": "Python 3 (ipykernel)",
   "language": "python",
   "name": "python3"
  },
  "language_info": {
   "codemirror_mode": {
    "name": "ipython",
    "version": 3
   },
   "file_extension": ".py",
   "mimetype": "text/x-python",
   "name": "python",
   "nbconvert_exporter": "python",
   "pygments_lexer": "ipython3",
   "version": "3.11.5"
  }
 },
 "nbformat": 4,
 "nbformat_minor": 5
}
