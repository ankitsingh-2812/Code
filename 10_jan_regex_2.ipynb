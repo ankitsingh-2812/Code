{
 "cells": [
  {
   "cell_type": "markdown",
   "id": "59425a24-ef72-4c38-b628-7192999a36ef",
   "metadata": {},
   "source": [
    "# Regex(Regular Expression)\n",
    "- it is a technique that matches strings based on a pattern.\n",
    "- python privides a **standard module re**\n",
    "#### Usage\n",
    "- data cleaning\n",
    "- data validation(email/mobile etc.)\n",
    "- interprer/complier design\n",
    "- etc."
   ]
  },
  {
   "cell_type": "code",
   "execution_count": 4,
   "id": "b4d017f3-eda1-47c1-8998-9c0b35b94fe1",
   "metadata": {
    "tags": []
   },
   "outputs": [
    {
     "name": "stdout",
     "output_type": "stream",
     "text": [
      "<re.Match object; span=(7, 9), match='is'>\n",
      "None\n",
      "<re.Match object; span=(0, 6), match='Python'>\n"
     ]
    }
   ],
   "source": [
    "import re\n",
    "\n",
    "s=\"\"\"Python is a funny language.\n",
    "It was first released in 1991 by Guido VAN Rossum.\n",
    "I study this language.\"\"\"\n",
    "\n",
    "match=re.search(\"i.\",s) #search only first match not all\n",
    "print(match)\n",
    "\n",
    "match=re.match(\"i.\",s) #search only first match at 0 index\n",
    "print(match)\n",
    "\n",
    "match=re.match(\"[A-Z][a-z]*\",s) #search only first match at 0 index\n",
    "print(match)"
   ]
  },
  {
   "cell_type": "code",
   "execution_count": 7,
   "id": "3b9ff6ad-8dc3-4370-89fb-51a04af20847",
   "metadata": {},
   "outputs": [
    {
     "name": "stdout",
     "output_type": "stream",
     "text": [
      "abczzzzzzzpqr\n",
      "abcpqr\n",
      "123\n"
     ]
    }
   ],
   "source": [
    "#data cleaning\n",
    "s=\"abc123+- ,pqr\"\n",
    "s1=re.sub(\"[^a-z]\",\"z\",s)\n",
    "print(s1)\n",
    "\n",
    "s2=re.sub(\"[^a-z]\",\"\",s)\n",
    "print(s2)\n",
    "\n",
    "s3=re.sub(\"[^0-9]\",\"\",s)\n",
    "print(s3)\n"
   ]
  },
  {
   "cell_type": "code",
   "execution_count": null,
   "id": "944b73f8-86f5-4ee1-87d9-1f0302b234e3",
   "metadata": {},
   "outputs": [],
   "source": []
  }
 ],
 "metadata": {
  "kernelspec": {
   "display_name": "Python 3 (ipykernel)",
   "language": "python",
   "name": "python3"
  },
  "language_info": {
   "codemirror_mode": {
    "name": "ipython",
    "version": 3
   },
   "file_extension": ".py",
   "mimetype": "text/x-python",
   "name": "python",
   "nbconvert_exporter": "python",
   "pygments_lexer": "ipython3",
   "version": "3.11.5"
  }
 },
 "nbformat": 4,
 "nbformat_minor": 5
}
